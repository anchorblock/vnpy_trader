{
 "cells": [
  {
   "cell_type": "code",
   "execution_count": 7,
   "metadata": {},
   "outputs": [],
   "source": [
    "from vnpy.trader.constant import Exchange, Interval\n",
    "from vnpy.trader.engine import MainEngine, EventEngine\n",
    "from vnpy_datamanager import ManagerEngine"
   ]
  },
  {
   "cell_type": "code",
   "execution_count": 8,
   "metadata": {},
   "outputs": [
    {
     "name": "stdout",
     "output_type": "stream",
     "text": [
      "找不到数据服务驱动vnpy_，使用默认的RQData数据服务\n"
     ]
    }
   ],
   "source": [
    "manager = ManagerEngine(MainEngine, EventEngine)"
   ]
  },
  {
   "attachments": {},
   "cell_type": "markdown",
   "metadata": {},
   "source": [
    "### Daily Data"
   ]
  },
  {
   "cell_type": "code",
   "execution_count": null,
   "metadata": {},
   "outputs": [],
   "source": [
    "csv_path = './BTC.csv'\n",
    "symbol = 'BTC_Daily'\n",
    "exchange = Exchange.LOCAL\n",
    "interval = Interval.DAILY\n",
    "tz_name = 'Asia/Dhaka'\n",
    "datetime_head = 'timestamp'\n",
    "open_head = 'open'\n",
    "high_head = 'high'\n",
    "low_head = 'low'\n",
    "close_head = 'close'\n",
    "volume_head = 'volume'\n",
    "datetime_format = '%Y-%m-%d %H:%M:%S+00:00'\n",
    "\n",
    "turnover_head = None\n",
    "open_interest_head = None"
   ]
  },
  {
   "cell_type": "code",
   "execution_count": 12,
   "metadata": {},
   "outputs": [
    {
     "data": {
      "text/plain": [
       "(datetime.datetime(2018, 1, 1, 0, 0, tzinfo=zoneinfo.ZoneInfo(key='Asia/Dhaka')),\n",
       " datetime.datetime(2023, 4, 4, 0, 0, tzinfo=zoneinfo.ZoneInfo(key='Asia/Dhaka')),\n",
       " 1920)"
      ]
     },
     "execution_count": 12,
     "metadata": {},
     "output_type": "execute_result"
    }
   ],
   "source": [
    "manager.import_data_from_csv(\n",
    "    file_path=csv_path,\n",
    "    symbol=symbol,\n",
    "    exchange=exchange,\n",
    "    interval=interval,\n",
    "    tz_name= tz_name,\n",
    "    datetime_head=datetime_head,\n",
    "    open_head=open_head,\n",
    "    high_head=high_head,\n",
    "    low_head=low_head,\n",
    "    close_head=close_head,\n",
    "    volume_head=volume_head,\n",
    "    datetime_format = datetime_format,\n",
    "    turnover_head=turnover_head,\n",
    "    open_interest_head=open_interest_head\n",
    ")"
   ]
  },
  {
   "cell_type": "code",
   "execution_count": 15,
   "metadata": {},
   "outputs": [],
   "source": [
    "csv_path = './ETH.csv'\n",
    "symbol = 'ETH_Daily'\n",
    "exchange = Exchange.LOCAL\n",
    "interval = Interval.DAILY\n",
    "tz_name = 'Asia/Dhaka'\n",
    "datetime_head = 'timestamp'\n",
    "open_head = 'open'\n",
    "high_head = 'high'\n",
    "low_head = 'low'\n",
    "close_head = 'close'\n",
    "volume_head = 'volume'\n",
    "datetime_format = '%Y-%m-%d %H:%M:%S+00:00'\n",
    "\n",
    "turnover_head = None\n",
    "open_interest_head = None"
   ]
  },
  {
   "cell_type": "code",
   "execution_count": 16,
   "metadata": {},
   "outputs": [
    {
     "data": {
      "text/plain": [
       "(datetime.datetime(2018, 1, 1, 0, 0, tzinfo=zoneinfo.ZoneInfo(key='Asia/Dhaka')),\n",
       " datetime.datetime(2023, 4, 4, 0, 0, tzinfo=zoneinfo.ZoneInfo(key='Asia/Dhaka')),\n",
       " 1920)"
      ]
     },
     "execution_count": 16,
     "metadata": {},
     "output_type": "execute_result"
    }
   ],
   "source": [
    "manager.import_data_from_csv(\n",
    "    file_path=csv_path,\n",
    "    symbol=symbol,\n",
    "    exchange=exchange,\n",
    "    interval=interval,\n",
    "    tz_name= tz_name,\n",
    "    datetime_head=datetime_head,\n",
    "    open_head=open_head,\n",
    "    high_head=high_head,\n",
    "    low_head=low_head,\n",
    "    close_head=close_head,\n",
    "    volume_head=volume_head,\n",
    "    datetime_format = datetime_format,\n",
    "    turnover_head=turnover_head,\n",
    "    open_interest_head=open_interest_head\n",
    ")"
   ]
  },
  {
   "attachments": {},
   "cell_type": "markdown",
   "metadata": {},
   "source": [
    "#### Minute Data"
   ]
  },
  {
   "cell_type": "code",
   "execution_count": 13,
   "metadata": {},
   "outputs": [],
   "source": [
    "csv_path = './BTC_minute.csv'\n",
    "symbol = 'BTC_Minute'\n",
    "exchange = Exchange.LOCAL\n",
    "interval = Interval.MINUTE\n",
    "tz_name = 'Asia/Dhaka'\n",
    "datetime_head = 'timestamp'\n",
    "open_head = 'open'\n",
    "high_head = 'high'\n",
    "low_head = 'low'\n",
    "close_head = 'close'\n",
    "volume_head = 'volume'\n",
    "datetime_format = '%Y-%m-%d %H:%M:%S'\n",
    "\n",
    "turnover_head = None\n",
    "open_interest_head = None"
   ]
  },
  {
   "cell_type": "code",
   "execution_count": 14,
   "metadata": {},
   "outputs": [
    {
     "data": {
      "text/plain": [
       "(datetime.datetime(2022, 5, 4, 6, 8, tzinfo=zoneinfo.ZoneInfo(key='Asia/Dhaka')),\n",
       " datetime.datetime(2023, 5, 4, 6, 12, tzinfo=zoneinfo.ZoneInfo(key='Asia/Dhaka')),\n",
       " 525525)"
      ]
     },
     "execution_count": 14,
     "metadata": {},
     "output_type": "execute_result"
    }
   ],
   "source": [
    "manager.import_data_from_csv(\n",
    "    file_path=csv_path,\n",
    "    symbol=symbol,\n",
    "    exchange=exchange,\n",
    "    interval=interval,\n",
    "    tz_name= tz_name,\n",
    "    datetime_head=datetime_head,\n",
    "    open_head=open_head,\n",
    "    high_head=high_head,\n",
    "    low_head=low_head,\n",
    "    close_head=close_head,\n",
    "    volume_head=volume_head,\n",
    "    datetime_format = datetime_format,\n",
    "    turnover_head=turnover_head,\n",
    "    open_interest_head=open_interest_head\n",
    ")"
   ]
  },
  {
   "cell_type": "code",
   "execution_count": null,
   "metadata": {},
   "outputs": [],
   "source": []
  }
 ],
 "metadata": {
  "kernelspec": {
   "display_name": "vnpy",
   "language": "python",
   "name": "python3"
  },
  "language_info": {
   "codemirror_mode": {
    "name": "ipython",
    "version": 3
   },
   "file_extension": ".py",
   "mimetype": "text/x-python",
   "name": "python",
   "nbconvert_exporter": "python",
   "pygments_lexer": "ipython3",
   "version": "3.10.11"
  },
  "orig_nbformat": 4
 },
 "nbformat": 4,
 "nbformat_minor": 2
}
