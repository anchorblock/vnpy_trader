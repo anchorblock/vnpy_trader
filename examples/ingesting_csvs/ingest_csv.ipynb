{
 "cells": [
  {
   "cell_type": "code",
   "execution_count": 2,
   "metadata": {},
   "outputs": [
    {
     "name": "stdout",
     "output_type": "stream",
     "text": [
      "找不到数据服务驱动vnpy_，使用默认的RQData数据服务\n"
     ]
    }
   ],
   "source": [
    "import vnpy_crypto\n",
    "vnpy_crypto.init()\n",
    "from vnpy.trader.constant import Exchange, Interval\n",
    "from vnpy.trader.engine import MainEngine, EventEngine\n",
    "from vnpy_datamanager import ManagerEngine\n",
    "import pandas as pd\n",
    "manager = ManagerEngine(MainEngine, EventEngine)"
   ]
  },
  {
   "cell_type": "code",
   "execution_count": 3,
   "metadata": {},
   "outputs": [],
   "source": [
    "import multiprocessing"
   ]
  },
  {
   "attachments": {},
   "cell_type": "markdown",
   "metadata": {},
   "source": [
    "# Daily Data"
   ]
  },
  {
   "cell_type": "code",
   "execution_count": 5,
   "metadata": {},
   "outputs": [],
   "source": [
    "def ingest_crypto_daily(path, symbol):\n",
    "    df = pd.read_csv(path)\n",
    "    a = manager.import_data_from_csv(\n",
    "        file_path=path,\n",
    "        symbol=symbol,\n",
    "        exchange=Exchange.BINANCE,\n",
    "        interval=Interval.DAILY,\n",
    "        tz_name= 'Asia/Dhaka',\n",
    "        datetime_head=df.columns[0],\n",
    "        open_head=df.columns[1],\n",
    "        high_head=df.columns[2],\n",
    "        low_head=df.columns[3],\n",
    "        close_head=df.columns[4],\n",
    "        volume_head=df.columns[5],\n",
    "        datetime_format = '%Y-%m-%d %H:%M:%S+00:00', # Need to match from the csv file manually\n",
    "        turnover_head=None,\n",
    "        open_interest_head=None)\n",
    "    print(a)"
   ]
  },
  {
   "cell_type": "code",
   "execution_count": 28,
   "metadata": {},
   "outputs": [
    {
     "name": "stdout",
     "output_type": "stream",
     "text": [
      "(datetime.datetime(2018, 1, 1, 0, 0, tzinfo=zoneinfo.ZoneInfo(key='Asia/Dhaka')), datetime.datetime(2023, 4, 4, 0, 0, tzinfo=zoneinfo.ZoneInfo(key='Asia/Dhaka')), 1920)\n"
     ]
    }
   ],
   "source": [
    "ingest_crypto_daily(path= './Daily/BTC.csv', symbol='BTCUSD')"
   ]
  },
  {
   "cell_type": "code",
   "execution_count": 29,
   "metadata": {},
   "outputs": [
    {
     "name": "stdout",
     "output_type": "stream",
     "text": [
      "(datetime.datetime(2018, 1, 1, 0, 0, tzinfo=zoneinfo.ZoneInfo(key='Asia/Dhaka')), datetime.datetime(2023, 4, 4, 0, 0, tzinfo=zoneinfo.ZoneInfo(key='Asia/Dhaka')), 1920)\n"
     ]
    }
   ],
   "source": [
    "ingest_crypto_daily(path= './Daily/ETH.csv', symbol='BTCUSD')"
   ]
  },
  {
   "cell_type": "code",
   "execution_count": 30,
   "metadata": {},
   "outputs": [
    {
     "name": "stdout",
     "output_type": "stream",
     "text": [
      "(datetime.datetime(2018, 1, 1, 0, 0, tzinfo=zoneinfo.ZoneInfo(key='Asia/Dhaka')), datetime.datetime(2023, 4, 4, 0, 0, tzinfo=zoneinfo.ZoneInfo(key='Asia/Dhaka')), 1920)\n"
     ]
    }
   ],
   "source": [
    "ingest_crypto_daily(path= './Daily/BNB.csv', symbol='BTCUSD')"
   ]
  },
  {
   "attachments": {},
   "cell_type": "markdown",
   "metadata": {},
   "source": [
    "# Minute Data"
   ]
  },
  {
   "cell_type": "code",
   "execution_count": 31,
   "metadata": {},
   "outputs": [],
   "source": [
    "def ingest_crypto_minute(path, symbol):\n",
    "    df = pd.read_csv(path)\n",
    "    a = manager.import_data_from_csv(\n",
    "        file_path=path,\n",
    "        symbol=symbol,\n",
    "        exchange=Exchange.BINANCE,\n",
    "        interval=Interval.MINUTE,\n",
    "        tz_name= 'Asia/Dhaka',\n",
    "        datetime_head=df.columns[0],\n",
    "        open_head=df.columns[1],\n",
    "        high_head=df.columns[2],\n",
    "        low_head=df.columns[3],\n",
    "        close_head=df.columns[4],\n",
    "        volume_head=df.columns[5],\n",
    "        datetime_format = '%Y-%m-%d %H:%M:%S', # Need to match from the csv file manually\n",
    "        turnover_head=None,\n",
    "        open_interest_head=None)\n",
    "    print(a)"
   ]
  },
  {
   "cell_type": "code",
   "execution_count": 32,
   "metadata": {},
   "outputs": [],
   "source": [
    "ingest_crypto_minute(path= './Minute/BTC.csv', symbol='BTCUSD')"
   ]
  },
  {
   "cell_type": "code",
   "execution_count": null,
   "metadata": {},
   "outputs": [],
   "source": []
  }
 ],
 "metadata": {
  "kernelspec": {
   "display_name": "vnpy",
   "language": "python",
   "name": "python3"
  },
  "language_info": {
   "codemirror_mode": {
    "name": "ipython",
    "version": 3
   },
   "file_extension": ".py",
   "mimetype": "text/x-python",
   "name": "python",
   "nbconvert_exporter": "python",
   "pygments_lexer": "ipython3",
   "version": "3.10.11"
  },
  "orig_nbformat": 4
 },
 "nbformat": 4,
 "nbformat_minor": 2
}
